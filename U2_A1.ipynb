{
 "cells": [
  {
   "cell_type": "code",
   "execution_count": 2,
   "metadata": {},
   "outputs": [],
   "source": [
    "import numpy as np\n",
    "# Paket zum erstellen von Schaubildern\n",
    "import matplotlib\n",
    "import matplotlib.pyplot as plt\n",
    "# Paket fuer statistische Methoden und Zufallsverteilungen\n",
    "from scipy import stats"
   ]
  },
  {
   "cell_type": "code",
   "execution_count": 3,
   "metadata": {},
   "outputs": [
    {
     "name": "stdout",
     "output_type": "stream",
     "text": [
      "[[ 9  8 11  6 19]\n",
      " [ 7 16  1 13  3]\n",
      " [15  2  5 14 20]\n",
      " [16 18 20 19  7]\n",
      " [14  5 13  2 11]\n",
      " [19  3 13 14 10]\n",
      " [12  4 19 16  8]\n",
      " [16  2  4 19 17]\n",
      " [18  1 11  2 14]\n",
      " [17 17  8  3  6]\n",
      " [15 17  8  7 20]\n",
      " [20  6 10 16  1]\n",
      " [ 7 17 15  3 12]\n",
      " [19 18 15 15  1]\n",
      " [ 3 12 18 10  5]\n",
      " [19  6 13  9  4]\n",
      " [20  1  8 16  3]\n",
      " [17 19  1 14 11]\n",
      " [ 1  6 15 17 12]\n",
      " [ 6 15  7 16  5]]\n",
      "[ 9  8 11  6 19  7 16  1 13  3 15  2  5 14 20 16 18 20 19  7 14  5 13  2 11\n",
      " 19  3 13 14 10 12  4 19 16  8 16  2  4 19 17 18  1 11  2 14 17 17  8  3  6\n",
      " 15 17  8  7 20 20  6 10 16  1  7 17 15  3 12 19 18 15 15  1  3 12 18 10  5\n",
      " 19  6 13  9  4 20  1  8 16  3 17 19  1 14 11  1  6 15 17 12  6 15  7 16  5]\n",
      "[ 10.6   8.   11.2  16.    9.   11.8  11.8  11.6   9.2  10.2  13.4  10.6\n",
      "  10.8  13.6   9.6  10.2   9.6  12.4  10.2   9.8]\n",
      "(10.98, 1.8032193432857804)\n"
     ]
    },
    {
     "name": "stderr",
     "output_type": "stream",
     "text": [
      "/home/karimel/.local/lib/python2.7/site-packages/matplotlib/figure.py:1743: UserWarning: This figure includes Axes that are not compatible with tight_layout, so its results might be incorrect.\n",
      "  warnings.warn(\"This figure includes Axes that are not \"\n"
     ]
    },
    {
     "data": {
      "image/png": "[encoded data removed]",
      "text/plain": [
       "<matplotlib.figure.Figure at 0x7f351b10a910>"
      ]
     },
     "metadata": {
      "needs_background": "light"
     },
     "output_type": "display_data"
    }
   ],
   "source": [
    "\n",
    "# Setze Optionen fuer den Stil der matplotlib Grafiken\n",
    "matplotlib.rcParams['figure.autolayout'] = True\n",
    "matplotlib.rcParams['font.size'] = 24\n",
    "\n",
    "#Anzahl der Wuerfelrunden\n",
    "n_sets = 20\n",
    "\n",
    "#Anzahl der Wuerfe pro Runde\n",
    "n_wuerfe = 5\n",
    "\n",
    "# Seiten des ''Wuerfels''\n",
    "n_seiten = 20\n",
    "\n",
    "# Ziehe n_sets x n_wuerfe gleichverteilte Zufallszahlen zwischen 1 und 6\n",
    "zufallszahlen = np.random.randint( low=1, high=n_seiten+1 , size = ( n_sets, n_wuerfe ) )\n",
    "\n",
    "# Gebe Ergebnis auf dem Terminal aus\n",
    "print( zufallszahlen )\n",
    "# Das Objekt zufallszahlen ist ein 2D array bestehend aus den Wuerfen pro Runde\n",
    "#print(type(zufallszahlen))\n",
    "#print(len(zufallszahlen))\n",
    "\n",
    "# Erstelle 1D array aller Wuerfe\n",
    "alle_wuerfe=zufallszahlen.flatten()\n",
    "print(alle_wuerfe)\n",
    "#print(len(alle_wuerfe))\n",
    "\n",
    "# Mittelwert der Augenzahlen fuer jede Runde\n",
    "# Erstelle 1D array mit den Mittelwerten der einzelnen Runden\n",
    "mittelwerte = zufallszahlen.mean( axis = 1 )\n",
    "print( mittelwerte )\n",
    "\n",
    "#Erstellen der Schaubilder\n",
    "#Erstelle eine Leinwand mit 2 Schaubildern\n",
    "fig,axes = plt.subplots(2)\n",
    "# fig = Figure Objekt\n",
    "# Setze groesse in Zoll (breite, hoehe)\n",
    "fig.set_size_inches(8,10)\n",
    "# axes = Axen der beiden Schaubilder\n",
    "axis_means=axes[1]\n",
    "axis_wuerfe=axes[0]\n",
    "\n",
    "\n",
    "#Histogrammiere Ergebnisse\n",
    "schritt = 0.5\n",
    "schritt_means=0.5\n",
    "bingrenzen_wuerfe = np.arange( 1, n_seiten+1, schritt )\n",
    "bingrenzen_means = np.arange( 1, (n_seiten+1), schritt_means )\n",
    "axis_wuerfe.hist( alle_wuerfe, bins=bingrenzen_wuerfe )\n",
    "axis_means.hist( mittelwerte, bins=bingrenzen_means )\n",
    "\n",
    "## Schaubild aller Wuerfe\n",
    "# Grafik plotten\n",
    "axis_wuerfe.plot()\n",
    "\n",
    "# Verschoenerung der Darstellung\n",
    "axis_wuerfe.set_xlabel( r'Wuerfelwurf' )\n",
    "axis_wuerfe.set_ylabel( r'Haeufigkeit' )\n",
    "axis_wuerfe.grid( True )\n",
    "\n",
    "\n",
    "## Schaubild der Mittelwerte\n",
    "# Anpassung einer Gaussverteilung an die Verteilung der Mittelwerte\n",
    "fitmittel, standardabweichung = stats.norm.fit( mittelwerte )\n",
    "print( fitmittel, standardabweichung )\n",
    "x = np.linspace( 1, n_seiten, 100 )\n",
    "y = n_sets * schritt_means * stats.norm.pdf( x, fitmittel, standardabweichung )\n",
    "#axis_means.plot( x, y )\n",
    "\n",
    "#Verschoenerung der Darstellung\n",
    "axis_means.set_xlabel( r'Mittlere Augenzahl' )\n",
    "axis_means.set_ylabel( r'Haeufigkeit' )\n",
    "axis_means.grid( True )"
   ]
  },
  {
   "cell_type": "code",
   "execution_count": null,
   "metadata": {},
   "outputs": [],
   "source": []
  },
  {
   "cell_type": "code",
   "execution_count": null,
   "metadata": {},
   "outputs": [],
   "source": []
  }
 ],
 "metadata": {
  "kernelspec": {
   "display_name": "Python 3",
   "language": "python",
   "name": "python3"
  },
  "language_info": {
   "codemirror_mode": {
    "name": "ipython",
    "version": 2
   },
   "file_extension": ".py",
   "mimetype": "text/x-python",
   "name": "python",
   "nbconvert_exporter": "python",
   "pygments_lexer": "ipython2",
   "version": "2.7.12"
  }
 },
 "nbformat": 4,
 "nbformat_minor": 2
}
