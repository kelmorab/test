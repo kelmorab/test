{
 "cells": [
  {
   "cell_type": "code",
   "execution_count": 2,
   "metadata": {},
   "outputs": [
    {
     "name": "stdout",
     "output_type": "stream",
     "text": [
      "hello world\n"
     ]
    }
   ],
   "source": [
    "print(\"hello world\")"
   ]
  },
  {
   "cell_type": "code",
   "execution_count": 3,
   "metadata": {},
   "outputs": [],
   "source": [
    "# importiere benoetigte Packete\n",
    "# Mathematikpaket\n",
    "import numpy as np\n",
    "# Paket zum erstellen von Schaubildern\n",
    "import matplotlib\n",
    "import matplotlib.pyplot as plt\n",
    "# Paket fuer statistische Methoden und Zufallsverteilungen\n",
    "from scipy import stats"
   ]
  },
  {
   "cell_type": "code",
   "execution_count": 5,
   "metadata": {},
   "outputs": [
    {
     "name": "stdout",
     "output_type": "stream",
     "text": [
      "[[6 6 5 5 4]\n",
      " [6 5 6 5 6]\n",
      " [4 4 3 6 2]\n",
      " [1 1 4 1 6]\n",
      " [5 4 2 5 1]\n",
      " [4 3 5 3 3]\n",
      " [4 5 5 6 2]\n",
      " [1 5 5 4 6]\n",
      " [5 5 6 6 1]\n",
      " [5 5 2 3 4]\n",
      " [3 4 5 1 5]\n",
      " [5 5 5 5 4]\n",
      " [2 3 6 3 5]\n",
      " [3 2 5 3 1]\n",
      " [3 2 1 1 6]\n",
      " [2 3 1 6 1]\n",
      " [4 1 2 6 5]\n",
      " [2 1 5 5 3]\n",
      " [3 6 5 5 1]\n",
      " [4 4 1 5 6]]\n",
      "[6 6 5 5 4 6 5 6 5 6 4 4 3 6 2 1 1 4 1 6 5 4 2 5 1 4 3 5 3 3 4 5 5 6 2 1 5\n",
      " 5 4 6 5 5 6 6 1 5 5 2 3 4 3 4 5 1 5 5 5 5 5 4 2 3 6 3 5 3 2 5 3 1 3 2 1 1\n",
      " 6 2 3 1 6 1 4 1 2 6 5 2 1 5 5 3 3 6 5 5 1 4 4 1 5 6]\n",
      "[ 5.2  5.6  3.8  2.6  3.4  3.6  4.4  4.2  4.6  3.8  3.6  4.8  3.8  2.8  2.6\n",
      "  2.6  3.6  3.2  4.   4. ]\n",
      "(3.8100000000000001, 0.81847419018561607)\n"
     ]
    },
    {
     "name": "stderr",
     "output_type": "stream",
     "text": [
      "/home/karimel/.local/lib/python2.7/site-packages/matplotlib/figure.py:1743: UserWarning: This figure includes Axes that are not compatible with tight_layout, so its results might be incorrect.\n",
      "  warnings.warn(\"This figure includes Axes that are not \"\n"
     ]
    },
    {
     "data": {
      "image/png": "[encoded data removed]",
      "text/plain": [
       "<matplotlib.figure.Figure at 0x7fa7955d3190>"
      ]
     },
     "metadata": {
      "needs_background": "light"
     },
     "output_type": "display_data"
    }
   ],
   "source": [
    "\n",
    "# Setze Optionen fuer den Stil der matplotlib Grafiken\n",
    "matplotlib.rcParams['text.usetex'] = True\n",
    "matplotlib.rcParams['figure.autolayout'] = True\n",
    "matplotlib.rcParams['font.family'] ='sans-serif'\n",
    "matplotlib.rcParams['font.sans-serif'] = 'Arial'\n",
    "matplotlib.rcParams['font.size'] = 24\n",
    "\n",
    "#Anzahl der Wuerfelrunden\n",
    "n_sets = 20\n",
    "\n",
    "#Anzahl der Wuerfe pro Runde\n",
    "n_wuerfe = 5\n",
    "\n",
    "# Ziehe n_sets x n_wuerfe gleichverteilte Zufallszahlen zwischen 1 und 6\n",
    "zufallszahlen = np.random.randint( low=1, high=7 , size = ( n_sets, n_wuerfe ) )\n",
    "\n",
    "# Gebe Ergebnis auf dem Terminal aus\n",
    "print( zufallszahlen )\n",
    "# Das Objekt zufallszahlen ist ein 2D array bestehend aus den Wuerfen pro Runde\n",
    "#print(type(zufallszahlen))\n",
    "#print(len(zufallszahlen))\n",
    "\n",
    "# Erstelle 1D array aller Wuerfe\n",
    "alle_wuerfe=zufallszahlen.flatten()\n",
    "print(alle_wuerfe)\n",
    "#print(len(alle_wuerfe))\n",
    "\n",
    "# Mittelwert der Augenzahlen fuer jede Runde\n",
    "# Erstelle 1D array mit den Mittelwerten der einzelnen Runden\n",
    "mittelwerte = zufallszahlen.mean( axis = 1 )\n",
    "print( mittelwerte )\n",
    "\n",
    "#Erstellen der Schaubilder\n",
    "#Erstelle eine Leinwand mit 2 Schaubildern\n",
    "fig,axes = plt.subplots(2)\n",
    "# fig = Figure Objekt\n",
    "# Setze groesse in Zoll (breite, hoehe)\n",
    "fig.set_size_inches(8,10)\n",
    "# axes = Axen der beiden Schaubilder\n",
    "axis_means=axes[0]\n",
    "axis_wuerfe=axes[1]\n",
    "\n",
    "\n",
    "#Histogrammiere Ergebnisse\n",
    "schritt = 0.5\n",
    "bingrenzen_wuerfe = np.arange( 1, 7, schritt )\n",
    "bingrenzen_means = np.arange( 1, 6, schritt )\n",
    "axis_wuerfe.hist( alle_wuerfe, bins=bingrenzen_wuerfe )\n",
    "axis_means.hist( mittelwerte, bins=bingrenzen_means )\n",
    "\n",
    "## Schaubild aller Wuerfe\n",
    "# Grafik plotten\n",
    "axis_wuerfe.plot()\n",
    "\n",
    "# Verschoenerung der Darstellung\n",
    "axis_wuerfe.set_xlabel( r'Wuerfelwurf' )\n",
    "axis_wuerfe.set_ylabel( r'Haeufigkeit' )\n",
    "axis_wuerfe.grid( True )\n",
    "\n",
    "\n",
    "## Schaubild der Mittelwerte\n",
    "# Anpassung einer Gaussverteilung an die Verteilung der Mittelwerte\n",
    "fitmittel, standardabweichung = stats.norm.fit( mittelwerte )\n",
    "print( fitmittel, standardabweichung )\n",
    "\n",
    "# Grafiken plotten\n",
    "x = np.linspace( 1, 6, 100 )\n",
    "y = n_sets * schritt * stats.norm.pdf( x, fitmittel, standardabweichung )\n",
    "axis_means.plot( x, y )\n",
    "\n",
    "#Verschoenerung der Darstellung\n",
    "axis_means.set_xlabel( r'Mittlere Augenzahl' )\n",
    "axis_means.set_ylabel( r'Haeufigkeit' )\n",
    "axis_means.grid( True )"
   ]
  },
  {
   "cell_type": "code",
   "execution_count": 6,
   "metadata": {},
   "outputs": [
    {
     "data": {
      "text/plain": [
       "<matplotlib.figure.Figure at 0x7fa7955f4710>"
      ]
     },
     "metadata": {},
     "output_type": "display_data"
    }
   ],
   "source": [
    "plt.savefig( 'wuerfeln.pdf' )\n"
   ]
  },
  {
   "cell_type": "code",
   "execution_count": null,
   "metadata": {},
   "outputs": [],
   "source": []
  }
 ],
 "metadata": {
  "kernelspec": {
   "display_name": "Python 3",
   "language": "python",
   "name": "python3"
  },
  "language_info": {
   "codemirror_mode": {
    "name": "ipython",
    "version": 2
   },
   "file_extension": ".py",
   "mimetype": "text/x-python",
   "name": "python",
   "nbconvert_exporter": "python",
   "pygments_lexer": "ipython2",
   "version": "2.7.12"
  }
 },
 "nbformat": 4,
 "nbformat_minor": 2
}
